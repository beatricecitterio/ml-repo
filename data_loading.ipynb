{
 "cells": [
  {
   "cell_type": "markdown",
   "metadata": {},
   "source": [
    "# **Data Loading**\n"
   ]
  },
  {
   "cell_type": "code",
   "execution_count": 2,
   "metadata": {},
   "outputs": [],
   "source": [
    "import pandas as pd"
   ]
  },
  {
   "cell_type": "code",
   "execution_count": 20,
   "metadata": {},
   "outputs": [
    {
     "name": "stderr",
     "output_type": "stream",
     "text": [
      "/var/folders/bm/yxd_5px52t5d6m_z9t3mp9400000gn/T/ipykernel_5983/3459925936.py:1: DtypeWarning: Columns (22,50,56,57,58,59,61) have mixed types. Specify dtype option on import or set low_memory=False.\n",
      "  mutation = pd.read_csv('OmicsSomaticMutations.csv')\n"
     ]
    }
   ],
   "source": [
    "mutation = pd.read_csv('OmicsSomaticMutations.csv')\n",
    "expression = pd.read_csv('OmicsExpressionProteinCodingGenesTPMLogp1.csv')\n",
    "info = pd.read_csv('Model.csv')"
   ]
  },
  {
   "cell_type": "code",
   "execution_count": 22,
   "metadata": {},
   "outputs": [],
   "source": [
    "expression = expression.rename(columns={'Unnamed: 0': 'ModelID'})"
   ]
  },
  {
   "cell_type": "code",
   "execution_count": 25,
   "metadata": {},
   "outputs": [],
   "source": [
    "mutation = mutation[mutation.HugoSymbol == 'TP53'] # filter for TP53 mutations"
   ]
  },
  {
   "cell_type": "code",
   "execution_count": null,
   "metadata": {},
   "outputs": [],
   "source": [
    "expression['Mutation'] = expression['ModelID'].isin(mutation['ModelID']).astype(int) \n",
    "# here we only consider whether there is mutation or not, maybe include other stuff later"
   ]
  }
 ],
 "metadata": {
  "kernelspec": {
   "display_name": "ml",
   "language": "python",
   "name": "python3"
  },
  "language_info": {
   "codemirror_mode": {
    "name": "ipython",
    "version": 3
   },
   "file_extension": ".py",
   "mimetype": "text/x-python",
   "name": "python",
   "nbconvert_exporter": "python",
   "pygments_lexer": "ipython3",
   "version": "3.12.9"
  }
 },
 "nbformat": 4,
 "nbformat_minor": 2
}
