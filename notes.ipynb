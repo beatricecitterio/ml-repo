{
 "cells": [
  {
   "cell_type": "markdown",
   "metadata": {},
   "source": [
    "Goal \n",
    "1) from RNA sequencing, produce a model that tells me if there is TP53 mutation or not.\n",
    "2) specify which type of mutation\n",
    "\n",
    "We need to have mutation data, sequencing data and type of mutation.\n",
    "\n",
    "Question 1: is TP53 mutation affecting the RNA at all? \n",
    "\n",
    "Question 2: is the type of mutation in TP53 affecting the RNA sequencing or not?"
   ]
  },
  {
   "cell_type": "markdown",
   "metadata": {},
   "source": []
  }
 ],
 "metadata": {
  "kernelspec": {
   "display_name": "base",
   "language": "python",
   "name": "python3"
  },
  "language_info": {
   "codemirror_mode": {
    "name": "ipython",
    "version": 3
   },
   "file_extension": ".py",
   "mimetype": "text/x-python",
   "name": "python",
   "nbconvert_exporter": "python",
   "pygments_lexer": "ipython3",
   "version": "3.8.8"
  }
 },
 "nbformat": 4,
 "nbformat_minor": 2
}
